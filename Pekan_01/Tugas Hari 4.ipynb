{
  "cells": [
    {
      "cell_type": "markdown",
      "metadata": {
        "id": "a9HYUdCUsrKl"
      },
      "source": [
        "<h2>Soal 1: Comparison Operator</h2>\n",
        "\n",
        "- Berikan contoh comparison dari tipe data string\n",
        "- Berikan contoh comparison dari tipe data boolean\n",
        "- Berikan contoh comparison dari tipe data integer"
      ]
    },
    {
      "cell_type": "code",
      "execution_count": 10,
      "metadata": {
        "id": "fUFkFOt0afUL"
      },
      "outputs": [
        {
          "name": "stdout",
          "output_type": "stream",
          "text": [
            "Comparasion String\n",
            "rangga == rangga? True\n",
            "ariq == rangga? False\n",
            "\n",
            "Comparasion Bool\n",
            "data ditambahkan karna status kekosongan data = True\n",
            "\n",
            "Comparasion Integer\n",
            "anda lulus dengan nilai 80\n"
          ]
        }
      ],
      "source": [
        "print('Comparasion String')\n",
        "nama = 'rangga'\n",
        "fname = 'rangga'\n",
        "lname = 'ariq'\n",
        "print(f\"{fname} == {nama}? {fname==nama}\")\n",
        "print(f\"{lname} == {nama}? {lname==nama}\")\n",
        "\n",
        "print('\\nComparasion Bool')\n",
        "isEmpty = True\n",
        "if isEmpty :\n",
        "  print(f'data ditambahkan karna status kekosongan data = {isEmpty}')\n",
        "else :\n",
        "  print(f'data sudah tersedia karna status kekosongan data = {isEmpty}')\n",
        "\n",
        "print('\\nComparasion Integer')\n",
        "nilai = 80\n",
        "if nilai >= 75 :\n",
        "  print(f'anda lulus dengan nilai {nilai}')\n",
        "else:\n",
        "  print(f'anda gagal dengan nilai {nilai}')"
      ]
    },
    {
      "cell_type": "markdown",
      "metadata": {
        "id": "XeywALwwhZn7"
      },
      "source": [
        "\n",
        "\n",
        "---\n",
        "\n",
        "\n",
        "\n",
        "---\n",
        "\n"
      ]
    },
    {
      "cell_type": "markdown",
      "metadata": {
        "id": "IbNoZvVssrK5"
      },
      "source": [
        "<h2>Soal 2: Boolean Comparison</h2>\n",
        "\n",
        "- Berikan contoh gabungan multiple comparison menggunkan Boolean Comparisin 'and'\n",
        "- Berikan contoh gabungan multiple comparison menggunkan Boolean Comparisin 'or'\n",
        "- Berikan contoh gabungan multiple comparison menggunkan Boolean Comparisin 'not'"
      ]
    },
    {
      "cell_type": "code",
      "execution_count": 23,
      "metadata": {
        "id": "M1mwGoegaiET"
      },
      "outputs": [
        {
          "name": "stdout",
          "output_type": "stream",
          "text": [
            "Comparasin 'and' -> username atau password salah\n",
            "Comparasin 'or'  -> No Telp sudah digunakan\n",
            "Comparasin 'not' -> {'name': 'rangga', 'age': 22, 'gender': 'male'}\n"
          ]
        }
      ],
      "source": [
        "## AND\n",
        "print(\"Comparasin 'and'\", end = ' -> ')\n",
        "username = 'admin'\n",
        "password = 'root31'\n",
        "\n",
        "if username == 'admin' and password == 'root' :\n",
        "  print('anda berhasil login')\n",
        "else : \n",
        "  print('username atau password salah')\n",
        "\n",
        "# expected : username atau password salah\n",
        "# karna operator 'and' harus kedua statement bersifat True, dan kondisi ini saya sengaja membuat password tersebut salah\n",
        "\n",
        "## OR\n",
        "print(\"Comparasin 'or'\", end = '  -> ')\n",
        "noTelpAyah = ['088219424935', '08123234412','081234567890']\n",
        "noTelpIbu = ['081232314414', '085716763059']\n",
        "thePhone = '085716763059'\n",
        "\n",
        "if thePhone in noTelpAyah or thePhone in noTelpIbu : \n",
        "  print('No Telp sudah digunakan')\n",
        "else :\n",
        "  print('No Telp belum digunakan')\n",
        "  \n",
        "# expected : No Telp sudah digunakan \n",
        "# karna operator 'or' akan memiliki hasil True jika salah satu statement bersifat True, \n",
        "# pada kondisi ini saya membuat kondisi yang True hanya pada thePhone == noTelpIbu\n",
        "\n",
        "## NOT\n",
        "print(\"Comparasin 'not'\", end = ' -> ')\n",
        "person = {\n",
        "  'name' : 'rangga',\n",
        "  'age' : 22,\n",
        "  'gender': 'female'\n",
        "}\n",
        "\n",
        "if not person['gender'] == 'male' :\n",
        "  person['gender'] = 'male'\n",
        "print(person)\n",
        "\n",
        "# expected : {'name': 'rangga', 'age': 22, 'gender': 'male'} \n",
        "# terjadi perubahan value pada key gender, karna operator 'not' disini akan merubah semua value jika gender bukan 'male' "
      ]
    },
    {
      "cell_type": "markdown",
      "metadata": {
        "id": "Y3ejsyvqhciI"
      },
      "source": [
        "\n",
        "\n",
        "---\n",
        "\n",
        "\n",
        "\n",
        "---\n",
        "\n"
      ]
    },
    {
      "cell_type": "markdown",
      "metadata": {
        "id": "Yp_g_sPMsrLH"
      },
      "source": [
        "<h2>Soal 3: If-Else Statement</h2>\n",
        "\n",
        "Lengkapi kode untuk menghasilkan suatu output yang di harapkan\n",
        "\n",
        "- Bualah sebuah if-else statement yang dimana akan mem-print 'High' jika grade adalah 'A' dan price lebih dari 100000, kemudian mem-print 'Medium' jika grade adalah 'A' dan price lebih dari 50000 dan memprint 'low' jika grade adalah 'A' dan price lebih kecil dan sama dengan 50000."
      ]
    },
    {
      "cell_type": "code",
      "execution_count": 28,
      "metadata": {
        "id": "2PPsaN50c9ew"
      },
      "outputs": [
        {
          "name": "stdout",
          "output_type": "stream",
          "text": [
            "Medium\n"
          ]
        }
      ],
      "source": [
        "#code here\n",
        "grade = 'A'\n",
        "price = 60000\n",
        "\n",
        "if grade == 'A' :\n",
        "  if price >= 100000:\n",
        "    level = 'High'\n",
        "  elif price >= 50000 :\n",
        "    level = 'Medium'\n",
        "  else : \n",
        "    level = 'Low'\n",
        "print(level)"
      ]
    },
    {
      "cell_type": "markdown",
      "metadata": {
        "id": "FkSxKlMNhfzn"
      },
      "source": [
        "\n",
        "\n",
        "---\n",
        "\n",
        "\n",
        "\n",
        "---\n",
        "\n"
      ]
    },
    {
      "cell_type": "markdown",
      "metadata": {
        "id": "IcoJXJT1srLW"
      },
      "source": [
        "<h2>Soal 4: Comparison Operator dengan fungsi</h2>\n",
        "\n",
        "Buatlah sebuah fungsi yang menerima satu argument bertipe data numeric dan menghasilkan sebuah return sebagai berikut :\n",
        "- menghasilkan return 'Aneh' jika nilai dari argument tersebut adalah bilangan ganjil\n",
        "- menghasilkan return 'Tidak Aneh' jika nilai dari argument tersebut adalah bilangan genap dan diantara nilai 2 sampai 5 (2 dan 5 termasuk)\n",
        "- menghasilkan return 'Aneh' jika nilai dari argument tersebut adalah bilangan genap dan diantara nilai 6 sampai 20 (6 dan 20 termasuk)\n",
        "- menghasilkan return 'Tidak Aneh' jika nilai dari argument tersebut adalah bilangan genap dan lebih besari dari 20"
      ]
    },
    {
      "cell_type": "code",
      "execution_count": 32,
      "metadata": {
        "id": "oGXGd_MhdH9D"
      },
      "outputs": [
        {
          "name": "stdout",
          "output_type": "stream",
          "text": [
            "1. Aneh\n",
            "2. Tidak Aneh\n",
            "3. Aneh\n",
            "4. Tidak Aneh\n",
            "5. Aneh\n",
            "6. Aneh\n",
            "7. Aneh\n",
            "8. Aneh\n",
            "9. Aneh\n",
            "10. Aneh\n",
            "11. Aneh\n",
            "12. Aneh\n",
            "13. Aneh\n",
            "14. Aneh\n",
            "15. Aneh\n",
            "16. Aneh\n",
            "17. Aneh\n",
            "18. Aneh\n",
            "19. Aneh\n",
            "20. Aneh\n",
            "21. Aneh\n",
            "22. Tidak Aneh\n",
            "23. Aneh\n",
            "24. Tidak Aneh\n",
            "25. Aneh\n"
          ]
        }
      ],
      "source": [
        "# Buat fungsi\n",
        "def result(args):\n",
        "  res = 'Aneh'\n",
        "  if args % 2 == 0 :\n",
        "    if (args >= 2 and args <= 5) or args > 20 :\n",
        "      res = 'Tidak Aneh'\n",
        "  return res \n",
        "\n",
        "for i in range(1, 26) :\n",
        "  print(f'{i}. {result(i)}')"
      ]
    },
    {
      "cell_type": "markdown",
      "metadata": {
        "id": "QxKrmLcchhvf"
      },
      "source": [
        "\n",
        "\n",
        "---\n",
        "\n",
        "\n",
        "\n",
        "---\n",
        "\n"
      ]
    },
    {
      "cell_type": "markdown",
      "metadata": {
        "id": "gf0D64xOsrLl"
      },
      "source": [
        "<h2>Soal 5: While Loop dan For Loop</h2>\n",
        "\n",
        "- Apa perbedaan while loop dan for loop?\n",
        "- Berikan contoh sederhana cara menggunakan while loop dan for loop"
      ]
    },
    {
      "cell_type": "markdown",
      "metadata": {
        "id": "cSrE7RbvdXWe"
      },
      "source": [
        "jawaban perbedaan <br>\n",
        "While loop digunakan untuk perulangan yang jumlah perulangannya tidak diketahui, <br>\n",
        "sedangkan for loop digunakan untuk perulangan yang jumlah perulangannya diketahui.\n"
      ]
    },
    {
      "cell_type": "code",
      "execution_count": 33,
      "metadata": {
        "id": "RSf-gg-rdY35"
      },
      "outputs": [
        {
          "name": "stdout",
          "output_type": "stream",
          "text": [
            "1\n",
            "2\n",
            "3\n",
            "4\n",
            "5\n",
            "6\n",
            "7\n",
            "8\n",
            "9\n",
            "10\n",
            "1\n",
            "2\n",
            "3\n",
            "4\n",
            "5\n",
            "6\n",
            "7\n",
            "8\n",
            "9\n",
            "10\n"
          ]
        }
      ],
      "source": [
        "# jawaban contoh\n",
        "i = 1\n",
        "while i <= 10:\n",
        "    print(i)\n",
        "    i += 1\n",
        "\n",
        "for i in range(1, 11):\n",
        "    print(i)\n"
      ]
    },
    {
      "cell_type": "markdown",
      "metadata": {
        "id": "xJq6aaArhlDN"
      },
      "source": [
        "\n",
        "\n",
        "---\n",
        "\n",
        "\n",
        "\n",
        "---\n",
        "\n"
      ]
    },
    {
      "cell_type": "markdown",
      "metadata": {
        "id": "fZQpBGCgsrLz"
      },
      "source": [
        "<h2>Soal 6: While Loop</h2>\n",
        "    \n",
        "Buatlah sebuah code while loop sebagai berikut :\n",
        "- Buatlah suatu fungsi yang menerima satu input nilai numerik\n",
        "- Dalam fungsi, Buat sebuah while-loop dengan melakukan comparasi terhadap inputan tersebut, dimana looping/iterasi terus berjalan apabila nilai inputan tidak sama dengan 0\n",
        "- Dalam setiap iterasi update nilai variable inputan itu, jika input lebih dari 0, maka kurangi variabel tersebut sebesar 1, selain itu tambahkan 1\n",
        "- print nilai variable input dalam setiap awal iterasi"
      ]
    },
    {
      "cell_type": "code",
      "execution_count": 40,
      "metadata": {
        "id": "uc6N4UmedrU6"
      },
      "outputs": [
        {
          "name": "stdout",
          "output_type": "stream",
          "text": [
            "10\n",
            "9\n",
            "8\n",
            "7\n",
            "6\n",
            "5\n",
            "4\n",
            "3\n",
            "2\n",
            "1\n"
          ]
        }
      ],
      "source": [
        "a = 10\n",
        "\n",
        "def fungsi_while(angka):\n",
        "  if angka > 0 :\n",
        "    while angka > 0 :\n",
        "      print(angka)\n",
        "      angka -= 1\n",
        "  else :\n",
        "    while angka < 0 :\n",
        "      print(angka)\n",
        "      angka += 1\n",
        "\n",
        "fungsi_while(a)"
      ]
    },
    {
      "cell_type": "markdown",
      "metadata": {
        "id": "lKzngRrlsrMD"
      },
      "source": [
        "Expected Output:\n",
        "\n",
        "jika a = 10                           \n",
        "\n",
        "10                                   \n",
        "9                      \n",
        "8   \n",
        "7   \n",
        "6  \n",
        "5  \n",
        "4  \n",
        "3  \n",
        "2  \n",
        "1\n",
        "\n",
        "jika a = -10\n",
        "\n",
        "-10                                   \n",
        "-9                        \n",
        "-8  \n",
        "-7  \n",
        "-6  \n",
        "-5  \n",
        "-4  \n",
        "-3  \n",
        "-2  \n",
        "-1\n"
      ]
    },
    {
      "cell_type": "markdown",
      "metadata": {
        "id": "MhdhusMnhn8L"
      },
      "source": [
        "\n",
        "\n",
        "---\n",
        "\n",
        "\n",
        "\n",
        "---\n",
        "\n"
      ]
    },
    {
      "cell_type": "markdown",
      "metadata": {
        "id": "DnAUJ4TzgmOp"
      },
      "source": [
        "<h2>Soal 7: For Loop</h2>\n",
        "\n",
        "Lengkapi kode untuk menghasilkan suatu output yang diharapkan:\n",
        "\n",
        "\n",
        "\n",
        "\n",
        "\n",
        "*   Cari siswa mana saja yang memiliki nilai lebih dari sama dengan 80. Masukkan kedalam sebuah list. print hasilnya\n",
        "\n",
        "\n",
        "\n",
        "\n"
      ]
    },
    {
      "cell_type": "code",
      "execution_count": 42,
      "metadata": {
        "id": "aeuMIX8_hGCW"
      },
      "outputs": [],
      "source": [
        "data_siswa = [\n",
        "    {\n",
        "        \"nama\":\"Budi\",\n",
        "        \"nilai\": 90\n",
        "    },\n",
        "    {\n",
        "        \"nama\":\"Nina\",\n",
        "        \"nilai\": 78\n",
        "    },\n",
        "    {\n",
        "        \"nama\":\"Rudi\",\n",
        "        \"nilai\": 91\n",
        "    },\n",
        "    {\n",
        "        \"nama\":\"Olivia\",\n",
        "        \"nilai\": 76\n",
        "    },\n",
        "    {\n",
        "        \"nama\":\"Leo\",\n",
        "        \"nilai\": 80\n",
        "    },\n",
        "    {\n",
        "        \"nama\":\"Liam\",\n",
        "        \"nilai\": 67\n",
        "    },\n",
        "    {\n",
        "        \"nama\":\"Sheila\",\n",
        "        \"nilai\": 76\n",
        "    }\n",
        "]"
      ]
    },
    {
      "cell_type": "code",
      "execution_count": 55,
      "metadata": {
        "id": "XlQsAeOchKLP"
      },
      "outputs": [
        {
          "name": "stdout",
          "output_type": "stream",
          "text": [
            "['Budi', 'Rudi', 'Leo']\n",
            "['Budi', 'Rudi', 'Leo']\n"
          ]
        }
      ],
      "source": [
        "#code here\n",
        "# ada 2 cara, pertama dengan loop biasa\n",
        "siswa_lulus = []\n",
        "for siswa in data_siswa :\n",
        "  if siswa['nilai'] >= 80 :\n",
        "    siswa_lulus.append(siswa['nama'])\n",
        "print(siswa_lulus)\n",
        "\n",
        "# kedua dengan list comprehension\n",
        "siswa_above_80 = [siswa['nama'] for siswa in data_siswa if siswa['nilai'] >= 80]\n",
        "print(siswa_above_80)"
      ]
    },
    {
      "cell_type": "markdown",
      "metadata": {
        "id": "xIFJBG5PhL_5"
      },
      "source": [
        "Expected output:\n",
        "\n",
        "['Budi', 'Rudi', 'Leo']"
      ]
    },
    {
      "cell_type": "markdown",
      "metadata": {
        "id": "6qKCmZB0hqH9"
      },
      "source": [
        "\n",
        "\n",
        "---\n",
        "\n",
        "\n",
        "\n",
        "---\n",
        "\n"
      ]
    },
    {
      "cell_type": "markdown",
      "metadata": {
        "id": "IWg3Z_zZsrMG"
      },
      "source": [
        "<h2>Soal 8: For Loop Enumerate</h2>\n",
        "    \n",
        "Lengkapi kode untuk menghasilkan suatu output yang di harapkan:\n",
        "\n",
        "- Buatlah sebuah loop dengan mengiterasi sebuah objek list kemudian di kalikan dengan index dari list tersebut dan print hasilnya"
      ]
    },
    {
      "cell_type": "code",
      "execution_count": 54,
      "metadata": {
        "id": "wvxcRiq2gYS9"
      },
      "outputs": [
        {
          "name": "stdout",
          "output_type": "stream",
          "text": [
            "0\n",
            "16\n",
            "22\n",
            "30\n",
            "20\n"
          ]
        }
      ],
      "source": [
        "obj_list= [1, 16, 11, 10, 5]\n",
        "\n",
        "# lengkapi code di bawah\n",
        "for i, val in enumerate(obj_list) :\n",
        "  print(i*val)\n",
        "  "
      ]
    },
    {
      "cell_type": "markdown",
      "metadata": {
        "id": "OGawROjnsrMU"
      },
      "source": [
        "Expected Output:\n",
        "\n",
        "0\n",
        "\n",
        "16\n",
        "\n",
        "22\n",
        "\n",
        "30\n",
        "\n",
        "20\n"
      ]
    },
    {
      "cell_type": "markdown",
      "metadata": {
        "id": "BEaVi_Z5hror"
      },
      "source": [
        "\n",
        "\n",
        "---\n",
        "\n",
        "\n",
        "\n",
        "---\n",
        "\n"
      ]
    }
  ],
  "metadata": {
    "colab": {
      "collapsed_sections": [],
      "name": " Tugas Hari 4.ipynb",
      "provenance": []
    },
    "kernelspec": {
      "display_name": "Python 3",
      "language": "python",
      "name": "python3"
    },
    "language_info": {
      "codemirror_mode": {
        "name": "ipython",
        "version": 3
      },
      "file_extension": ".py",
      "mimetype": "text/x-python",
      "name": "python",
      "nbconvert_exporter": "python",
      "pygments_lexer": "ipython3",
      "version": "3.11.4"
    }
  },
  "nbformat": 4,
  "nbformat_minor": 0
}
